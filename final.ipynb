{
 "cells": [
  {
   "cell_type": "code",
   "execution_count": 9,
   "metadata": {},
   "outputs": [
    {
     "data": {
      "text/plain": [
       "'Simple allocation of the trains: [26, 51, 37, 5, 17, 102, 42, 20, 36, 33, 7, 81, 17, 71, 88, 5, 11, 8, 70, 61, 7, 85, 110, 111, 78, 15, 44, 43, 8, 39, 36, 58, 167, 35, 68, 52, 48, 50, 36, 27, 39, 10, 39, 25, 57, 39, 20, 20, 61, 27, 93, 71, 91, 92, 39, 6, 91, 8, 38, 75, 14, 12, 12, 15, 26, 48, 96, 30, 52, 63, 59, 68, 52, 22, 205, 56, 18, 19, 26, 23, 20, 19, 11, 11, 26, 69, 123, 13, 19] \\n Average tonnage per kilometer: 44369.91'"
      ]
     },
     "execution_count": 9,
     "metadata": {},
     "output_type": "execute_result"
    }
   ],
   "source": [
    "import pandas as pd\n",
    "db = 'hackathon_sirius_data.csv'\n",
    "df = pd.read_csv(db)\n",
    "\n",
    "def main_allocation(df, load_percentage: float = 1) -> tuple:\n",
    "    tonnage_limit = df[df.columns[6]].values.tolist()\n",
    "    max_train_tonnage = df[df.columns[7]].values.tolist()\n",
    "    length = df[df.columns[4]].values.tolist()\n",
    "\n",
    "    \"\"\"\n",
    "    Args:\n",
    "        df - dataframe with given data\n",
    "        load_percentage: float type percentage to create the gap between 100% load of railway and average load of railway\n",
    "\n",
    "    Returns:\n",
    "        tuple[str]\n",
    "    \"\"\"\n",
    "\n",
    "\n",
    "    lst = []\n",
    "    for i in range(0, len(tonnage_limit)):\n",
    "        a = df.loc[i].values.flatten().tolist()\n",
    "        lst.append([a[2], a[3]])\n",
    "    simple_allocation = []\n",
    "\n",
    "    for i in range(len(lst)):\n",
    "        for j in range(len(lst)):\n",
    "            if lst[i][0] == lst[j][1] and lst[i][1] == lst[j][0]:\n",
    "                # print(f'pair is {lst[i]} {lst[j]}')\n",
    "                temp = min(tonnage_limit[i] / max_train_tonnage[i], tonnage_limit[j] / max_train_tonnage[j])\n",
    "                simple_allocation.append(int(temp))\n",
    "                simple_allocation1 = simple_allocation.copy()\n",
    "    simple_allocation = simple_allocation[:(int(len(simple_allocation) / 2)+1)]\n",
    "\n",
    "    max_train_tonnage = [elem * load_percentage for elem in max_train_tonnage]\n",
    "    per_kilo_tonnage = []\n",
    "    for i in range(len(max_train_tonnage)):\n",
    "        per_kilo_tonnage.append(round(max_train_tonnage[i] / length[i]) * simple_allocation1[i])\n",
    "    average_per_kilo_tonnage = round(sum(per_kilo_tonnage) / len(per_kilo_tonnage), 2)\n",
    "    nl = '\\n'\n",
    "    return f'Simple allocation of the trains: {simple_allocation} {nl} Average tonnage per kilometer: {average_per_kilo_tonnage}'\n",
    "main_allocation(df)\n"
   ]
  }
 ],
 "metadata": {
  "kernelspec": {
   "display_name": "Python 3",
   "language": "python",
   "name": "python3"
  },
  "language_info": {
   "codemirror_mode": {
    "name": "ipython",
    "version": 3
   },
   "file_extension": ".py",
   "mimetype": "text/x-python",
   "name": "python",
   "nbconvert_exporter": "python",
   "pygments_lexer": "ipython3",
   "version": "3.10.9 (tags/v3.10.9:1dd9be6, Dec  6 2022, 20:01:21) [MSC v.1934 64 bit (AMD64)]"
  },
  "orig_nbformat": 4,
  "vscode": {
   "interpreter": {
    "hash": "26de051ba29f2982a8de78e945f0abaf191376122a1563185a90213a26c5da77"
   }
  }
 },
 "nbformat": 4,
 "nbformat_minor": 2
}
